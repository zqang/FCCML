{
  "nbformat": 4,
  "nbformat_minor": 0,
  "metadata": {
    "colab": {
      "name": "fcc_predict_health_costs_with_regression.ipynb",
      "private_outputs": true,
      "provenance": [],
      "collapsed_sections": []
    },
    "kernelspec": {
      "display_name": "Python 3",
      "name": "python3"
    }
  },
  "cells": [
    {
      "cell_type": "markdown",
      "metadata": {
        "id": "M9TX15KOkPBV"
      },
      "source": [
        "*Note: You are currently reading this using Google Colaboratory which is a cloud-hosted version of Jupyter Notebook. This is a document containing both text cells for documentation and runnable code cells. If you are unfamiliar with Jupyter Notebook, watch this 3-minute introduction before starting this challenge: https://www.youtube.com/watch?v=inN8seMm7UI*\n",
        "\n",
        "---\n",
        "\n",
        "In this challenge, you will predict healthcare costs using a regression algorithm.\n",
        "\n",
        "You are given a dataset that contains information about different people including their healthcare costs. Use the data to predict healthcare costs based on new data.\n",
        "\n",
        "The first two cells of this notebook import libraries and the data.\n",
        "\n",
        "Make sure to convert categorical data to numbers. Use 80% of the data as the `train_dataset` and 20% of the data as the `test_dataset`.\n",
        "\n",
        "`pop` off the \"expenses\" column from these datasets to create new datasets called `train_labels` and `test_labels`. Use these labels when training your model.\n",
        "\n",
        "Create a model and train it with the `train_dataset`. Run the final cell in this notebook to check your model. The final cell will use the unseen `test_dataset` to check how well the model generalizes.\n",
        "\n",
        "To pass the challenge, `model.evaluate` must return a Mean Absolute Error of under 3500. This means it predicts health care costs correctly within $3500.\n",
        "\n",
        "The final cell will also predict expenses using the `test_dataset` and graph the results."
      ]
    },
    {
      "cell_type": "markdown",
      "metadata": {
        "id": "I1MQDjGnV_SR"
      },
      "source": [
        "My own reference : https://aihub.cloud.google.com/u/0/p/products%2Fd47fc6a2-9df9-4184-974c-a6f2b4ed2d83\r\n",
        "\r\n",
        "other reference : https://medium.com/@BAYUGALIH/prediction-of-health-insurance-costs-with-linear-regression-8fd95a905a40\r\n",
        "\r\n",
        "https://medium.com/analytics-vidhya/predicting-medical-insurance-costs-machine-learning-e1e4e7c4e8ed\r\n",
        "\r\n",
        "https://www.tensorflow.org/tutorials/keras/regression#make_predictions"
      ]
    },
    {
      "cell_type": "code",
      "metadata": {
        "id": "1rRo8oNqZ-Rj"
      },
      "source": [
        "# Import libraries. You may or may not use all of these.\n",
        "!pip install -q git+https://github.com/tensorflow/docs\n",
        "import matplotlib.pyplot as plt\n",
        "import numpy as np\n",
        "import pandas as pd\n",
        "\n",
        "try:\n",
        "  # %tensorflow_version only exists in Colab.\n",
        "  %tensorflow_version 2.x\n",
        "except Exception:\n",
        "  pass\n",
        "import tensorflow as tf\n",
        "\n",
        "from tensorflow import keras\n",
        "from tensorflow.keras import layers\n",
        "from tensorflow.keras.layers.experimental import preprocessing\n",
        "\n",
        "import tensorflow_docs as tfdocs\n",
        "import tensorflow_docs.plots\n",
        "import tensorflow_docs.modeling"
      ],
      "execution_count": null,
      "outputs": []
    },
    {
      "cell_type": "code",
      "metadata": {
        "id": "CiX2FI4gZtTt"
      },
      "source": [
        "# Import data\n",
        "!wget https://cdn.freecodecamp.org/project-data/health-costs/insurance.csv\n",
        "dataset = pd.read_csv('insurance.csv')\n",
        "dataset.tail()"
      ],
      "execution_count": null,
      "outputs": []
    },
    {
      "cell_type": "code",
      "metadata": {
        "id": "jFLKOokgDV9b"
      },
      "source": [
        "dataset.isna().sum()\r\n",
        "#if have unknown values can drop it \r\n",
        "# dataset = dataset.dropna()"
      ],
      "execution_count": null,
      "outputs": []
    },
    {
      "cell_type": "code",
      "metadata": {
        "id": "JGePb02Q2oUD"
      },
      "source": [
        "catColumns = ['sex', 'smoker', 'region']\r\n",
        "dataset = pd.get_dummies(dataset, columns = catColumns, drop_first=True)\r\n",
        "dataset.head()"
      ],
      "execution_count": null,
      "outputs": []
    },
    {
      "cell_type": "code",
      "metadata": {
        "id": "k07FJnUOEOjz"
      },
      "source": [
        "train_dataset = dataset.sample(frac=0.8, random_state=0)\r\n",
        "test_dataset = dataset.drop(train_dataset.index)"
      ],
      "execution_count": null,
      "outputs": []
    },
    {
      "cell_type": "code",
      "metadata": {
        "id": "e6nKqr_tQpmX"
      },
      "source": [
        "train_stats = train_dataset.describe()\r\n",
        "train_stats.pop(\"expenses\")\r\n",
        "train_stats = train_stats.transpose()\r\n",
        "train_stats\r\n"
      ],
      "execution_count": null,
      "outputs": []
    },
    {
      "cell_type": "code",
      "metadata": {
        "id": "3CyrSOADHg8C"
      },
      "source": [
        "train_features = train_dataset.copy()\r\n",
        "test_features = test_dataset.copy()\r\n",
        "\r\n",
        "train_labels = train_features.pop('expenses')\r\n",
        "test_labels = test_features.pop('expenses')"
      ],
      "execution_count": null,
      "outputs": []
    },
    {
      "cell_type": "code",
      "metadata": {
        "id": "qNH0c-o9Q6aJ"
      },
      "source": [
        "def norm(x): \r\n",
        "  return (x - train_stats['mean']) / train_stats['std']\r\n",
        "\r\n",
        "normed_train_data = norm(train_features)\r\n",
        "normed_test_data = norm(test_features)\r\n"
      ],
      "execution_count": null,
      "outputs": []
    },
    {
      "cell_type": "code",
      "metadata": {
        "id": "Gza729zpRv4-"
      },
      "source": [
        "def build_model():\r\n",
        "  model=keras.Sequential(\r\n",
        "      [layers.Dense(64,activation=tf.nn.relu,\r\n",
        "      input_shape=[len(train_features.keys())]),\r\n",
        "      layers.Dense(64,activation=tf.nn.relu),\r\n",
        "      layers.Dense(1)])\r\n",
        "  optimizer = tf.keras.optimizers.RMSprop(0.001)\r\n",
        "  model.compile(loss='mean_squared_error',\r\n",
        "                optimizer=optimizer,\r\n",
        "                metrics=['mean_absolute_error', 'mean_squared_error'])\r\n",
        "  return model\r\n"
      ],
      "execution_count": null,
      "outputs": []
    },
    {
      "cell_type": "code",
      "metadata": {
        "id": "o5m7Y4hUSQmu"
      },
      "source": [
        "model = build_model()"
      ],
      "execution_count": null,
      "outputs": []
    },
    {
      "cell_type": "code",
      "metadata": {
        "id": "W4jPUKfxSTUv"
      },
      "source": [
        "model.summary()"
      ],
      "execution_count": null,
      "outputs": []
    },
    {
      "cell_type": "code",
      "metadata": {
        "id": "rLEBqcr2SX14"
      },
      "source": [
        "example_batch = normed_train_data[:10]\r\n",
        "example_result = model.predict(example_batch)\r\n",
        "example_result"
      ],
      "execution_count": null,
      "outputs": []
    },
    {
      "cell_type": "code",
      "metadata": {
        "id": "jV4GoPS-SbW-"
      },
      "source": [
        "# Display training progress by printing a single dot for each completed epoch\r\n",
        "class PrintDot(keras.callbacks.Callback):\r\n",
        "  def on_epoch_end(self, epoch, logs):\r\n",
        "    if epoch % 100 == 0: print('')\r\n",
        "    print('.', end='')\r\n",
        "\r\n",
        "EPOCHS = 1000\r\n",
        "\r\n",
        "history = model.fit(\r\n",
        "  normed_train_data, train_labels,\r\n",
        "  epochs=EPOCHS, validation_split = 0.2, verbose=0,\r\n",
        "  callbacks=[PrintDot()])"
      ],
      "execution_count": null,
      "outputs": []
    },
    {
      "cell_type": "code",
      "metadata": {
        "id": "85hvPmm7SkG0"
      },
      "source": [
        "hist = pd.DataFrame(history.history)\r\n",
        "hist['epoch'] = history.epoch\r\n",
        "hist.tail()"
      ],
      "execution_count": null,
      "outputs": []
    },
    {
      "cell_type": "code",
      "metadata": {
        "id": "ODES2CRaS989"
      },
      "source": [
        "def plot_history(history):\r\n",
        "  hist = pd.DataFrame(history.history)\r\n",
        "  hist['epoch'] = history.epoch\r\n",
        " \r\n",
        "  plt.figure()\r\n",
        "  plt.xlabel('Epoch')\r\n",
        "  plt.ylabel('Mean Abs Error [expenses]')\r\n",
        "  plt.plot(hist['epoch'], hist['mean_absolute_error'],\r\n",
        "           label='Train Error')\r\n",
        "  plt.plot(hist['epoch'], hist['val_mean_absolute_error'],\r\n",
        "           label = 'Val Error')\r\n",
        "  plt.ylim([0,5])\r\n",
        "  plt.legend()\r\n",
        " \r\n",
        "  plt.figure()\r\n",
        "  plt.xlabel('Epoch')\r\n",
        "  plt.ylabel('Mean Square Error [$expenses^2$]')\r\n",
        "  plt.plot(hist['epoch'], hist['mean_squared_error'],\r\n",
        "           label='Train Error')\r\n",
        "  plt.plot(hist['epoch'], hist['val_mean_squared_error'],\r\n",
        "           label = 'Val Error')\r\n",
        "  plt.ylim([0,20])\r\n",
        "  plt.legend()\r\n",
        "  plt.show()\r\n",
        "\r\n",
        "\r\n",
        "plot_history(history)\r\n"
      ],
      "execution_count": null,
      "outputs": []
    },
    {
      "cell_type": "code",
      "metadata": {
        "id": "7E3i_PTzTOpU"
      },
      "source": [
        "model = build_model()\r\n",
        "\r\n",
        "# The patience parameter is the amount of epochs to check for improvement\r\n",
        "early_stop = keras.callbacks.EarlyStopping(monitor='val_loss', patience=10)\r\n",
        "\r\n",
        "history = model.fit(normed_train_data, train_labels, epochs=EPOCHS,validation_split = 0.2, verbose=0, callbacks=[early_stop, PrintDot()])\r\n",
        "\r\n",
        "plot_history(history)"
      ],
      "execution_count": null,
      "outputs": []
    },
    {
      "cell_type": "code",
      "metadata": {
        "id": "0SXN3oM2VFxM"
      },
      "source": [
        "loss, mae, mse = model.evaluate(normed_test_data, test_labels, verbose=0)\r\n",
        "\r\n",
        "print(\"Testing set Mean Abs Error: {:5.2f} MPG\".format(mae))\r\n"
      ],
      "execution_count": null,
      "outputs": []
    },
    {
      "cell_type": "code",
      "metadata": {
        "id": "vaeNwDwIVXAO"
      },
      "source": [
        "test_predictions = model.predict(normed_test_data).flatten()\r\n",
        "\r\n",
        "plt.scatter(test_labels, test_predictions)\r\n",
        "plt.xlabel('True Values [expenses]')\r\n",
        "plt.ylabel('Predictions [expenses]')\r\n",
        "plt.axis('equal')\r\n",
        "plt.axis('square')\r\n",
        "plt.xlim([0,plt.xlim()[1]])\r\n",
        "plt.ylim([0,plt.ylim()[1]])\r\n",
        "_ = plt.plot([-100, 100], [-100, 100])\r\n",
        "\r\n"
      ],
      "execution_count": null,
      "outputs": []
    },
    {
      "cell_type": "code",
      "metadata": {
        "id": "Xe7RXH3N3CWU"
      },
      "source": [
        "# RUN THIS CELL TO TEST YOUR MODEL. DO NOT MODIFY CONTENTS.\n",
        "# Test model by checking how well the model generalizes using the test set.\n",
        "loss, mae, mse = model.evaluate(normed_test_data, test_labels, verbose=2)\n",
        "\n",
        "print(\"Testing set Mean Abs Error: {:5.2f} expenses\".format(mae))\n",
        "\n",
        "if mae < 3500:\n",
        "  print(\"You passed the challenge. Great job!\")\n",
        "else:\n",
        "  print(\"The Mean Abs Error must be less than 3500. Keep trying.\")\n",
        "\n",
        "# Plot predictions.\n",
        "test_predictions = model.predict(normed_test_data).flatten()\n",
        "\n",
        "a = plt.axes(aspect='equal')\n",
        "plt.scatter(test_labels, test_predictions)\n",
        "plt.xlabel('True values (expenses)')\n",
        "plt.ylabel('Predictions (expenses)')\n",
        "lims = [0, 50000]\n",
        "plt.xlim(lims)\n",
        "plt.ylim(lims)\n",
        "_ = plt.plot(lims,lims)\n"
      ],
      "execution_count": null,
      "outputs": []
    }
  ]
}
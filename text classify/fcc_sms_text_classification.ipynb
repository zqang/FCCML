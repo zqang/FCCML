{
  "nbformat": 4,
  "nbformat_minor": 0,
  "metadata": {
    "colab": {
      "name": "fcc_sms_text_classification.ipynb",
      "private_outputs": true,
      "provenance": [],
      "collapsed_sections": []
    },
    "kernelspec": {
      "display_name": "Python 3",
      "name": "python3"
    }
  },
  "cells": [
    {
      "cell_type": "markdown",
      "metadata": {
        "id": "Eg62Pmz3o83v"
      },
      "source": [
        "*Note: You are currently reading this using Google Colaboratory which is a cloud-hosted version of Jupyter Notebook. This is a document containing both text cells for documentation and runnable code cells. If you are unfamiliar with Jupyter Notebook, watch this 3-minute introduction before starting this challenge: https://www.youtube.com/watch?v=inN8seMm7UI*\n",
        "\n",
        "---\n",
        "\n",
        "In this challenge, you need to create a machine learning model that will classify SMS messages as either \"ham\" or \"spam\". A \"ham\" message is a normal message sent by a friend. A \"spam\" message is an advertisement or a message sent by a company.\n",
        "\n",
        "You should create a function called `predict_message` that takes a message string as an argument and returns a list. The first element in the list should be a number between zero and one that indicates the likeliness of \"ham\" (0) or \"spam\" (1). The second element in the list should be the word \"ham\" or \"spam\", depending on which is most likely.\n",
        "\n",
        "For this challenge, you will use the [SMS Spam Collection dataset](http://www.dt.fee.unicamp.br/~tiago/smsspamcollection/). The dataset has already been grouped into train data and test data.\n",
        "\n",
        "The first two cells import the libraries and data. The final cell tests your model and function. Add your code in between these cells.\n"
      ]
    },
    {
      "cell_type": "markdown",
      "metadata": {
        "id": "0cPJ1Np3Zm74"
      },
      "source": [
        "My own reference : \r\n",
        "https://github.com/a-mt/fcc-sms-text-classification/blob/main/fcc_sms_text_classification.ipynb\r\n",
        "\r\n",
        "https://towardsdatascience.com/nlp-spam-detection-in-sms-text-data-using-deep-learning-b8632db85cc8\r\n",
        "\r\n",
        "https://www.kaggle.com/muzzzdy/sms-spam-detection-with-various-classifiers\r\n",
        "\r\n",
        "https://www.kaggle.com/faressayah/natural-language-processing-nlp-for-beginners\r\n",
        "\r\n",
        "https://www.kaggle.com/kredy10/simple-lstm-for-text-classification"
      ]
    },
    {
      "cell_type": "code",
      "metadata": {
        "id": "8RZOuS9LWQvv"
      },
      "source": [
        "# import libraries\n",
        "try:\n",
        "  # %tensorflow_version only exists in Colab.\n",
        "  !pip install tf-nightly\n",
        "except Exception:\n",
        "  pass\n",
        "import tensorflow as tf\n",
        "import pandas as pd\n",
        "from tensorflow import keras\n",
        "!pip install tensorflow-datasets\n",
        "import tensorflow_datasets as tfds\n",
        "import numpy as np\n",
        "import matplotlib.pyplot as plt\n",
        "\n",
        "print(tf.__version__)"
      ],
      "execution_count": null,
      "outputs": []
    },
    {
      "cell_type": "code",
      "metadata": {
        "id": "lMHwYXHXCar3"
      },
      "source": [
        "# get data files\n",
        "!wget https://cdn.freecodecamp.org/project-data/sms/train-data.tsv\n",
        "!wget https://cdn.freecodecamp.org/project-data/sms/valid-data.tsv\n",
        "\n",
        "train_file_path = \"train-data.tsv\"\n",
        "test_file_path = \"valid-data.tsv\""
      ],
      "execution_count": null,
      "outputs": []
    },
    {
      "cell_type": "code",
      "metadata": {
        "id": "g_h508FEClxO"
      },
      "source": [
        "train_df = pd.read_csv(train_file_path,delimiter='\\t',names=['label','message'])\r\n",
        "test_df = pd.read_csv(test_file_path, sep='\\t',names=['label','message'])\r\n",
        "train_df.head()"
      ],
      "execution_count": null,
      "outputs": []
    },
    {
      "cell_type": "code",
      "metadata": {
        "id": "rqDP5idqN7xn"
      },
      "source": [
        "train_df.groupby('label').describe().T"
      ],
      "execution_count": null,
      "outputs": []
    },
    {
      "cell_type": "code",
      "metadata": {
        "id": "Td_B9mncRgmk"
      },
      "source": [
        "text_feat = train_df['message'].copy()\r\n",
        "train_df['msg_type']= train_df['label'].map({'ham': 0, 'spam': 1})\r\n",
        "train_label = train_df['msg_type'].values\r\n",
        "\r\n",
        "text_a = test_df['message'].copy()\r\n",
        "test_df['msg_type'] = test_df['label'].map({'ham': 0, 'spam':1})\r\n",
        "test_label = test_df['msg_type'].values"
      ],
      "execution_count": null,
      "outputs": []
    },
    {
      "cell_type": "code",
      "metadata": {
        "id": "iEUKb7SAVGGf"
      },
      "source": [
        "import nltk\r\n",
        "nltk.download('stopwords') # download stopwords\r\n",
        "nltk.download('wordnet')   # download vocab for lemmatizer"
      ],
      "execution_count": null,
      "outputs": []
    },
    {
      "cell_type": "code",
      "metadata": {
        "id": "iLtu6zDlRwN4"
      },
      "source": [
        "import re\r\n",
        "from nltk.stem import WordNetLemmatizer \r\n",
        "from nltk.corpus import stopwords\r\n",
        "stopwords_eng = set(stopwords.words('english'))\r\n",
        "len(stopwords_eng)\r\n",
        "lemmatizer = WordNetLemmatizer()\r\n",
        "\r\n",
        "def clean_txt(txt):\r\n",
        "    txt = re.sub(r'([^\\s\\w])+', ' ', txt)\r\n",
        "    txt = \" \".join([lemmatizer.lemmatize(word) for word in txt.split()\r\n",
        "                    if not word in stopwords_eng])\r\n",
        "    txt = txt.lower()\r\n",
        "    return txt\r\n",
        "\r\n",
        "train = train_df['message'].apply(clean_txt)\r\n",
        "test = test_df['message'].apply(clean_txt)\r\n",
        "train[:5]"
      ],
      "execution_count": null,
      "outputs": []
    },
    {
      "cell_type": "code",
      "metadata": {
        "id": "WB5vn6JbRHUU"
      },
      "source": [
        "# Defining pre-processing hyperparameters\r\n",
        "max_len = 50 \r\n",
        "trunc_type = \"post\" \r\n",
        "padding_type = \"post\" \r\n",
        "oov_tok = \"<OOV>\" \r\n",
        "vocab_size = 500"
      ],
      "execution_count": null,
      "outputs": []
    },
    {
      "cell_type": "code",
      "metadata": {
        "id": "HuWABaHWSk3I"
      },
      "source": [
        "from tensorflow.keras.preprocessing.text import Tokenizer\r\n",
        "from tensorflow.keras.preprocessing.sequence import pad_sequences\r\n",
        "tokenizer = Tokenizer(num_words = vocab_size, char_level=False, oov_token = oov_tok)\r\n",
        "tokenizer.fit_on_texts(train)"
      ],
      "execution_count": null,
      "outputs": []
    },
    {
      "cell_type": "code",
      "metadata": {
        "id": "oMuaJe8DSnRn"
      },
      "source": [
        "# Sequencing and padding on training and testing \r\n",
        "training_sequences = tokenizer.texts_to_sequences(train)\r\n",
        "training_padded = pad_sequences (training_sequences, maxlen = max_len, padding = padding_type, truncating = trunc_type )\r\n",
        "testing_sequences = tokenizer.texts_to_sequences(test)\r\n",
        "testing_padded = pad_sequences(testing_sequences, maxlen = max_len,\r\n",
        "padding = padding_type, truncating = trunc_type)"
      ],
      "execution_count": null,
      "outputs": []
    },
    {
      "cell_type": "code",
      "metadata": {
        "id": "hsXtbCgdWLmx"
      },
      "source": [
        "# Shape of train tensor\r\n",
        "print('Shape of training tensor: ', training_padded.shape)\r\n",
        "print('Shape of testing tensor: ', testing_padded.shape)"
      ],
      "execution_count": null,
      "outputs": []
    },
    {
      "cell_type": "code",
      "metadata": {
        "id": "c4R3iBLxVk_R"
      },
      "source": [
        "vocab_size = 500 # As defined earlier\r\n",
        "embeding_dim = 16\r\n",
        "drop_value = 0.2 # dropout\r\n",
        "n_dense = 24"
      ],
      "execution_count": null,
      "outputs": []
    },
    {
      "cell_type": "code",
      "metadata": {
        "id": "AQIv6w5rVqP1"
      },
      "source": [
        "from tensorflow.keras.callbacks import EarlyStopping\r\n",
        "from tensorflow.keras.models import Sequential\r\n",
        "from tensorflow.keras.layers import Embedding, GlobalAveragePooling1D, Dense, Dropout, LSTM, Bidirectional\r\n",
        "#Dense model architecture\r\n",
        "model = Sequential()\r\n",
        "model.add(Embedding(vocab_size, embeding_dim, input_length=max_len))\r\n",
        "model.add(GlobalAveragePooling1D())\r\n",
        "model.add(Dense(24, activation='relu'))\r\n",
        "model.add(Dropout(drop_value))\r\n",
        "model.add(Dense(1, activation='sigmoid'))"
      ],
      "execution_count": null,
      "outputs": []
    },
    {
      "cell_type": "code",
      "metadata": {
        "id": "Hzz06dNkVzot"
      },
      "source": [
        "model.summary()"
      ],
      "execution_count": null,
      "outputs": []
    },
    {
      "cell_type": "code",
      "metadata": {
        "id": "vVOZIYJNV2YW"
      },
      "source": [
        "model.compile(loss='binary_crossentropy',optimizer='adam' ,metrics=['accuracy'])"
      ],
      "execution_count": null,
      "outputs": []
    },
    {
      "cell_type": "code",
      "metadata": {
        "id": "ilSznECEV3_m"
      },
      "source": [
        "# fitting a dense spam detector model\r\n",
        "num_epochs = 30\r\n",
        "early_stop = EarlyStopping(monitor='val_loss', patience=3)\r\n",
        "history = model.fit(training_padded, train_label, epochs=num_epochs, validation_data=(testing_padded,test_label),callbacks =[early_stop], verbose=2)"
      ],
      "execution_count": null,
      "outputs": []
    },
    {
      "cell_type": "code",
      "metadata": {
        "id": "DA4aydnZV-Cb"
      },
      "source": [
        "# Model performance on test data \r\n",
        "model.evaluate(testing_padded, test_label)"
      ],
      "execution_count": null,
      "outputs": []
    },
    {
      "cell_type": "code",
      "metadata": {
        "id": "I4oEXpKnYKcI"
      },
      "source": [
        "# Read as a dataframe \r\n",
        "metrics = pd.DataFrame(history.history)\r\n",
        "# Rename column\r\n",
        "metrics.rename(columns = {'loss': 'Training_Loss', 'accuracy': 'Training_Accuracy', 'val_loss': 'Validation_Loss', 'val_accuracy': 'Validation_Accuracy'}, inplace = True)\r\n",
        "def plot_graphs1(var1, var2, string):\r\n",
        "    metrics[[var1, var2]].plot()\r\n",
        "    plt.title('Training and Validation ' + string)\r\n",
        "    plt.xlabel ('Number of epochs')\r\n",
        "    plt.ylabel(string)\r\n",
        "    plt.legend([var1, var2])"
      ],
      "execution_count": null,
      "outputs": []
    },
    {
      "cell_type": "code",
      "metadata": {
        "id": "ao5eDcFLYO0H"
      },
      "source": [
        "plot_graphs1('Training_Loss', 'Validation_Loss', 'loss')"
      ],
      "execution_count": null,
      "outputs": []
    },
    {
      "cell_type": "code",
      "metadata": {
        "id": "--b7_27pYR9u"
      },
      "source": [
        "plot_graphs1('Training_Accuracy', 'Validation_Accuracy', 'accuracy')"
      ],
      "execution_count": null,
      "outputs": []
    },
    {
      "cell_type": "code",
      "metadata": {
        "id": "V79ZJ0jaOE_k"
      },
      "source": [
        "def preprocessing(X):\r\n",
        "  x = X.apply(lambda x: clean_txt(x))\r\n",
        "  x = tokenizer.texts_to_sequences(x)\r\n",
        "  return pad_sequences(x, maxlen=max_len, padding = padding_type, truncating = trunc_type)"
      ],
      "execution_count": null,
      "outputs": []
    },
    {
      "cell_type": "code",
      "metadata": {
        "id": "J9tD9yACG6M9"
      },
      "source": [
        "# function to predict messages based on model\n",
        "# (should return list containing prediction and label, ex. [0.008318834938108921, 'ham'])\n",
        "def predict_message(pred_text):\n",
        "  p = model.predict(preprocessing(pd.Series([pred_text])))[0]\n",
        "  return (p[0], (\"ham\" if p<0.5 else \"spam\"))\n",
        "\n",
        "pred_text = \"how are you doing today?\"\n",
        "\n",
        "prediction = predict_message(pred_text)\n",
        "print(prediction)"
      ],
      "execution_count": null,
      "outputs": []
    },
    {
      "cell_type": "code",
      "metadata": {
        "id": "Dxotov85SjsC"
      },
      "source": [
        "# Run this cell to test your function and model. Do not modify contents.\n",
        "def test_predictions():\n",
        "  test_messages = [\"how are you doing today\",\n",
        "                   \"sale today! to stop texts call 98912460324\",\n",
        "                   \"i dont want to go. can we try it a different day? available sat\",\n",
        "                   \"our new mobile video service is live. just install on your phone to start watching.\",\n",
        "                   \"you have won £1000 cash! call to claim your prize.\",\n",
        "                   \"i'll bring it tomorrow. don't forget the milk.\",\n",
        "                   \"wow, is your arm alright. that happened to me one time too\"\n",
        "                  ]\n",
        "\n",
        "  test_answers = [\"ham\", \"spam\", \"ham\", \"spam\", \"spam\", \"ham\", \"ham\"]\n",
        "  passed = True\n",
        "\n",
        "  for msg, ans in zip(test_messages, test_answers):\n",
        "    prediction = predict_message(msg)\n",
        "    if prediction[1] != ans:\n",
        "      passed = False\n",
        "\n",
        "  if passed:\n",
        "    print(\"You passed the challenge. Great job!\")\n",
        "  else:\n",
        "    print(\"You haven't passed yet. Keep trying.\")\n",
        "\n",
        "test_predictions()\n"
      ],
      "execution_count": null,
      "outputs": []
    }
  ]
}